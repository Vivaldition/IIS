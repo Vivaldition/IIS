{
 "cells": [
  {
   "cell_type": "markdown",
   "id": "4a51ebd6-2755-44e9-9b76-afb6cad3f635",
   "metadata": {},
   "source": [
    "# Лабораторная работа №1. Настройка окружения и разведочный анализ данных.\n",
    "\n",
    "## Цель работы\n",
    "\n",
    "Подготовить структуру проекта и провести разведочный анализ данных. Результаты первой лабораторной работы будут использоваться в дальнейшем цикле работ."
   ]
  },
  {
   "cell_type": "markdown",
   "id": "7383e1e9-fe78-447e-935f-ce1653965e2b",
   "metadata": {},
   "source": [
    "## Выполнение работы\n",
    "\n",
    "Был выбран датасет для дальнейшей работы:\n",
    "    Car Price prediction\n",
    "\n",
    "Была создана основная директория с проектом. \n",
    "Сделала это в домашней директории ~/ виртуальной машины. \n",
    "На рабочий стол вынесен ярлык к домашней директории (Home). \n",
    "В ней была создана новая папка, в которой будет находится проект, под названием car_price_pred. \n",
    "Таким образом, полный путь до папки: /home/alyona/car_price_pred или просто ~/car_price_pred.\n",
    "\n",
    "Структурируем основную директорию таким образом, чтобы все ключевые этапы, модули и данные находились в своих папках. \n",
    "На данном этапе были созданы две директории: data и eda.\n",
    "\n",
    "В первой будут храниться исходные данные, а также, те, которые могут в дальнейшем возникнуть в ходе создания проекта. В директории eda будут храниться артефакты, связанные с разведочным анализом данных: блокнот с проведенныеми исследованиями и сохраненные графики. \n",
    "\n",
    "### 0 Запуск\n",
    "\n",
    "   1. git clone https://github.com/Vivaldition/IIS\n",
    "   2. cd IIS\n",
    "   3. python3 -m venv # установка окружения\n",
    "   4. source .venv/bin/activate # активация окружения\n",
    "   5. pip install -r requirement.txt # установка зависимостей\n",
    "\n"
   ]
  },
  {
   "cell_type": "markdown",
   "id": "1ae6e103-7012-43fa-9b37-636415ff52c4",
   "metadata": {},
   "source": [
    "### 1. Импорт библиотек"
   ]
  },
  {
   "cell_type": "code",
   "execution_count": 1,
   "id": "ca361e66-3e88-4d16-aee7-629a6f9d05f3",
   "metadata": {},
   "outputs": [],
   "source": [
    "import pandas as pd\n",
    "import matplotlib.pyplot as plt\n",
    "import plotly.graph_objects as go\n",
    "import seaborn as sns\n",
    "import numpy as np\n",
    "import pickle\n",
    "import pandas as pd\n",
    "import plotly.express as px\n",
    "import matplotlib.pyplot as plt"
   ]
  },
  {
   "cell_type": "markdown",
   "id": "e1a92871-9bff-4708-8280-175823d8dc47",
   "metadata": {},
   "source": [
    "### 2. Загрузка данных"
   ]
  },
  {
   "cell_type": "code",
   "execution_count": 2,
   "id": "f49f8a35-ee0a-4bf8-957b-4088e1d9de83",
   "metadata": {
    "scrolled": true
   },
   "outputs": [
    {
     "name": "stdout",
     "output_type": "stream",
     "text": [
      "Размер данных: (301, 9)\n",
      "Столбцы: ['Car_Name', 'Year', 'Selling_Price', 'Present_Price', 'Driven_kms', 'Fuel_Type', 'Selling_type', 'Transmission', 'Owner']\n",
      "\n",
      "Первые 5 строк:\n"
     ]
    },
    {
     "data": {
      "text/html": [
       "<div>\n",
       "<style scoped>\n",
       "    .dataframe tbody tr th:only-of-type {\n",
       "        vertical-align: middle;\n",
       "    }\n",
       "\n",
       "    .dataframe tbody tr th {\n",
       "        vertical-align: top;\n",
       "    }\n",
       "\n",
       "    .dataframe thead th {\n",
       "        text-align: right;\n",
       "    }\n",
       "</style>\n",
       "<table border=\"1\" class=\"dataframe\">\n",
       "  <thead>\n",
       "    <tr style=\"text-align: right;\">\n",
       "      <th></th>\n",
       "      <th>Car_Name</th>\n",
       "      <th>Year</th>\n",
       "      <th>Selling_Price</th>\n",
       "      <th>Present_Price</th>\n",
       "      <th>Driven_kms</th>\n",
       "      <th>Fuel_Type</th>\n",
       "      <th>Selling_type</th>\n",
       "      <th>Transmission</th>\n",
       "      <th>Owner</th>\n",
       "    </tr>\n",
       "  </thead>\n",
       "  <tbody>\n",
       "    <tr>\n",
       "      <th>0</th>\n",
       "      <td>ritz</td>\n",
       "      <td>2014</td>\n",
       "      <td>3.35</td>\n",
       "      <td>5.59</td>\n",
       "      <td>27000</td>\n",
       "      <td>Petrol</td>\n",
       "      <td>Dealer</td>\n",
       "      <td>Manual</td>\n",
       "      <td>0</td>\n",
       "    </tr>\n",
       "    <tr>\n",
       "      <th>1</th>\n",
       "      <td>sx4</td>\n",
       "      <td>2013</td>\n",
       "      <td>4.75</td>\n",
       "      <td>9.54</td>\n",
       "      <td>43000</td>\n",
       "      <td>Diesel</td>\n",
       "      <td>Dealer</td>\n",
       "      <td>Manual</td>\n",
       "      <td>0</td>\n",
       "    </tr>\n",
       "    <tr>\n",
       "      <th>2</th>\n",
       "      <td>ciaz</td>\n",
       "      <td>2017</td>\n",
       "      <td>7.25</td>\n",
       "      <td>9.85</td>\n",
       "      <td>6900</td>\n",
       "      <td>Petrol</td>\n",
       "      <td>Dealer</td>\n",
       "      <td>Manual</td>\n",
       "      <td>0</td>\n",
       "    </tr>\n",
       "    <tr>\n",
       "      <th>3</th>\n",
       "      <td>wagon r</td>\n",
       "      <td>2011</td>\n",
       "      <td>2.85</td>\n",
       "      <td>4.15</td>\n",
       "      <td>5200</td>\n",
       "      <td>Petrol</td>\n",
       "      <td>Dealer</td>\n",
       "      <td>Manual</td>\n",
       "      <td>0</td>\n",
       "    </tr>\n",
       "    <tr>\n",
       "      <th>4</th>\n",
       "      <td>swift</td>\n",
       "      <td>2014</td>\n",
       "      <td>4.60</td>\n",
       "      <td>6.87</td>\n",
       "      <td>42450</td>\n",
       "      <td>Diesel</td>\n",
       "      <td>Dealer</td>\n",
       "      <td>Manual</td>\n",
       "      <td>0</td>\n",
       "    </tr>\n",
       "  </tbody>\n",
       "</table>\n",
       "</div>"
      ],
      "text/plain": [
       "  Car_Name  Year  Selling_Price  Present_Price  Driven_kms Fuel_Type  \\\n",
       "0     ritz  2014           3.35           5.59       27000    Petrol   \n",
       "1      sx4  2013           4.75           9.54       43000    Diesel   \n",
       "2     ciaz  2017           7.25           9.85        6900    Petrol   \n",
       "3  wagon r  2011           2.85           4.15        5200    Petrol   \n",
       "4    swift  2014           4.60           6.87       42450    Diesel   \n",
       "\n",
       "  Selling_type Transmission  Owner  \n",
       "0       Dealer       Manual      0  \n",
       "1       Dealer       Manual      0  \n",
       "2       Dealer       Manual      0  \n",
       "3       Dealer       Manual      0  \n",
       "4       Dealer       Manual      0  "
      ]
     },
     "execution_count": 2,
     "metadata": {},
     "output_type": "execute_result"
    }
   ],
   "source": [
    "df = pd.read_csv('/home/alyona/car_price_pred/data/car_data.csv')\n",
    "\n",
    "print(\"Размер данных:\", df.shape)  \n",
    "print(\"Столбцы:\", list(df.columns))  \n",
    "print(\"\\nПервые 5 строк:\")\n",
    "\n",
    "df.head()  "
   ]
  },
  {
   "cell_type": "markdown",
   "id": "c1c9c18c-43cc-4dae-985f-32fdde1fe2fe",
   "metadata": {},
   "source": [
    "### 3. Основная информация о данных"
   ]
  },
  {
   "cell_type": "code",
   "execution_count": 3,
   "id": "499d1ef2-e992-4c87-bfbb-5f0c59dbb9e2",
   "metadata": {},
   "outputs": [
    {
     "name": "stdout",
     "output_type": "stream",
     "text": [
      "<class 'pandas.core.frame.DataFrame'>\n",
      "RangeIndex: 301 entries, 0 to 300\n",
      "Data columns (total 9 columns):\n",
      " #   Column         Non-Null Count  Dtype  \n",
      "---  ------         --------------  -----  \n",
      " 0   Car_Name       301 non-null    object \n",
      " 1   Year           301 non-null    int64  \n",
      " 2   Selling_Price  301 non-null    float64\n",
      " 3   Present_Price  301 non-null    float64\n",
      " 4   Driven_kms     301 non-null    int64  \n",
      " 5   Fuel_Type      301 non-null    object \n",
      " 6   Selling_type   301 non-null    object \n",
      " 7   Transmission   301 non-null    object \n",
      " 8   Owner          301 non-null    int64  \n",
      "dtypes: float64(2), int64(3), object(4)\n",
      "memory usage: 21.3+ KB\n"
     ]
    }
   ],
   "source": [
    "df.info() "
   ]
  },
  {
   "cell_type": "code",
   "execution_count": 4,
   "id": "d5b257d7-0ed1-4420-acc0-6b0f4d627185",
   "metadata": {},
   "outputs": [
    {
     "data": {
      "text/html": [
       "<div>\n",
       "<style scoped>\n",
       "    .dataframe tbody tr th:only-of-type {\n",
       "        vertical-align: middle;\n",
       "    }\n",
       "\n",
       "    .dataframe tbody tr th {\n",
       "        vertical-align: top;\n",
       "    }\n",
       "\n",
       "    .dataframe thead th {\n",
       "        text-align: right;\n",
       "    }\n",
       "</style>\n",
       "<table border=\"1\" class=\"dataframe\">\n",
       "  <thead>\n",
       "    <tr style=\"text-align: right;\">\n",
       "      <th></th>\n",
       "      <th>Year</th>\n",
       "      <th>Selling_Price</th>\n",
       "      <th>Present_Price</th>\n",
       "      <th>Driven_kms</th>\n",
       "      <th>Owner</th>\n",
       "    </tr>\n",
       "  </thead>\n",
       "  <tbody>\n",
       "    <tr>\n",
       "      <th>count</th>\n",
       "      <td>301.000000</td>\n",
       "      <td>301.000000</td>\n",
       "      <td>301.000000</td>\n",
       "      <td>301.000000</td>\n",
       "      <td>301.000000</td>\n",
       "    </tr>\n",
       "    <tr>\n",
       "      <th>mean</th>\n",
       "      <td>2013.627907</td>\n",
       "      <td>4.661296</td>\n",
       "      <td>7.628472</td>\n",
       "      <td>36947.205980</td>\n",
       "      <td>0.043189</td>\n",
       "    </tr>\n",
       "    <tr>\n",
       "      <th>std</th>\n",
       "      <td>2.891554</td>\n",
       "      <td>5.082812</td>\n",
       "      <td>8.642584</td>\n",
       "      <td>38886.883882</td>\n",
       "      <td>0.247915</td>\n",
       "    </tr>\n",
       "    <tr>\n",
       "      <th>min</th>\n",
       "      <td>2003.000000</td>\n",
       "      <td>0.100000</td>\n",
       "      <td>0.320000</td>\n",
       "      <td>500.000000</td>\n",
       "      <td>0.000000</td>\n",
       "    </tr>\n",
       "    <tr>\n",
       "      <th>25%</th>\n",
       "      <td>2012.000000</td>\n",
       "      <td>0.900000</td>\n",
       "      <td>1.200000</td>\n",
       "      <td>15000.000000</td>\n",
       "      <td>0.000000</td>\n",
       "    </tr>\n",
       "    <tr>\n",
       "      <th>50%</th>\n",
       "      <td>2014.000000</td>\n",
       "      <td>3.600000</td>\n",
       "      <td>6.400000</td>\n",
       "      <td>32000.000000</td>\n",
       "      <td>0.000000</td>\n",
       "    </tr>\n",
       "    <tr>\n",
       "      <th>75%</th>\n",
       "      <td>2016.000000</td>\n",
       "      <td>6.000000</td>\n",
       "      <td>9.900000</td>\n",
       "      <td>48767.000000</td>\n",
       "      <td>0.000000</td>\n",
       "    </tr>\n",
       "    <tr>\n",
       "      <th>max</th>\n",
       "      <td>2018.000000</td>\n",
       "      <td>35.000000</td>\n",
       "      <td>92.600000</td>\n",
       "      <td>500000.000000</td>\n",
       "      <td>3.000000</td>\n",
       "    </tr>\n",
       "  </tbody>\n",
       "</table>\n",
       "</div>"
      ],
      "text/plain": [
       "              Year  Selling_Price  Present_Price     Driven_kms       Owner\n",
       "count   301.000000     301.000000     301.000000     301.000000  301.000000\n",
       "mean   2013.627907       4.661296       7.628472   36947.205980    0.043189\n",
       "std       2.891554       5.082812       8.642584   38886.883882    0.247915\n",
       "min    2003.000000       0.100000       0.320000     500.000000    0.000000\n",
       "25%    2012.000000       0.900000       1.200000   15000.000000    0.000000\n",
       "50%    2014.000000       3.600000       6.400000   32000.000000    0.000000\n",
       "75%    2016.000000       6.000000       9.900000   48767.000000    0.000000\n",
       "max    2018.000000      35.000000      92.600000  500000.000000    3.000000"
      ]
     },
     "execution_count": 4,
     "metadata": {},
     "output_type": "execute_result"
    }
   ],
   "source": [
    "df.describe()  "
   ]
  },
  {
   "cell_type": "markdown",
   "id": "76037787-af13-4c90-9b29-a2b2e7b67707",
   "metadata": {},
   "source": [
    "### 4. Проверка на пропуски и дубликаты"
   ]
  },
  {
   "cell_type": "code",
   "execution_count": 5,
   "id": "5591b4a2-a972-41dc-a335-a9da39380a25",
   "metadata": {},
   "outputs": [
    {
     "name": "stdout",
     "output_type": "stream",
     "text": [
      "Пропущенные значения в каждом столбце:\n",
      "Car_Name         0\n",
      "Year             0\n",
      "Selling_Price    0\n",
      "Present_Price    0\n",
      "Driven_kms       0\n",
      "Fuel_Type        0\n",
      "Selling_type     0\n",
      "Transmission     0\n",
      "Owner            0\n",
      "dtype: int64\n",
      "\n",
      "Количество дубликатов: 2\n",
      "Удалили 2 дубликатов\n"
     ]
    }
   ],
   "source": [
    "print(\"Пропущенные значения в каждом столбце:\")\n",
    "print(df.isnull().sum())  \n",
    "\n",
    "duplicates = df.duplicated().sum()  \n",
    "print(f\"\\nКоличество дубликатов: {duplicates}\")\n",
    "\n",
    "if duplicates > 0:\n",
    "    df = df.drop_duplicates()  \n",
    "    print(f\"Удалили {duplicates} дубликатов\")\n",
    "else:\n",
    "    print(\"Дубликатов нет\")"
   ]
  },
  {
   "cell_type": "markdown",
   "id": "7918e8e9-56a9-4e0d-af56-c70240646489",
   "metadata": {},
   "source": [
    "### 5. Анализ категориальных признаков"
   ]
  },
  {
   "cell_type": "code",
   "execution_count": 6,
   "id": "df72c148-4762-47d4-a32e-fc1083e54344",
   "metadata": {},
   "outputs": [
    {
     "name": "stdout",
     "output_type": "stream",
     "text": [
      "count    299.000000\n",
      "mean       4.589632\n",
      "std        4.984240\n",
      "min        0.100000\n",
      "25%        0.850000\n",
      "50%        3.510000\n",
      "75%        6.000000\n",
      "max       35.000000\n",
      "Name: Selling_Price, dtype: float64\n"
     ]
    }
   ],
   "source": [
    "print(df['Selling_Price'].describe())"
   ]
  },
  {
   "cell_type": "code",
   "execution_count": 7,
   "id": "47479201-51df-48b3-8827-713c482d82ab",
   "metadata": {},
   "outputs": [],
   "source": [
    "numeric_features = ['Year', 'Present_Price', 'Kms_Driven', 'Owner']\n",
    "categorical_features = ['Fuel_Type', 'Seller_Type', 'Transmission']\n",
    "target = 'Selling_Price'"
   ]
  },
  {
   "cell_type": "code",
   "execution_count": 8,
   "id": "b172d1bd-38e9-42f5-80e3-5f7ccf5df4d7",
   "metadata": {},
   "outputs": [
    {
     "data": {
      "text/plain": [
       "3"
      ]
     },
     "execution_count": 8,
     "metadata": {},
     "output_type": "execute_result"
    }
   ],
   "source": [
    "len(categorical_features)"
   ]
  },
  {
   "cell_type": "markdown",
   "id": "ac429d0c-4cae-4759-8d0d-ea986f4c8645",
   "metadata": {},
   "source": [
    "Вывод: Датасет состоит из 301 строки и 9 столбцов, а после удаления дубликатов получается 299 строк. Пропущенных значений невыявлено. Целевой перменной является Selling_Price, которая измеряется в lakh. Минимум 0.10 lakh, а максимум 35 lakh. Среднее значение равно 4.66, а медиана 3.60."
   ]
  },
  {
   "cell_type": "markdown",
   "id": "57ab4cc5-47b0-433d-90e3-e3ff449812db",
   "metadata": {},
   "source": [
    "### 6. Очистка данных и сохранение в новый файл"
   ]
  },
  {
   "cell_type": "code",
   "execution_count": 9,
   "id": "0ab8519b-ef38-41bc-a55c-3ba0389c727e",
   "metadata": {},
   "outputs": [
    {
     "name": "stdout",
     "output_type": "stream",
     "text": [
      "Была добавлена 1 новая переменная\n",
      "Размер DataFrame после очистки: (299, 10)\n",
      "\n",
      "Первые 5 строк с новым признаком:\n"
     ]
    },
    {
     "data": {
      "text/html": [
       "<div>\n",
       "<style scoped>\n",
       "    .dataframe tbody tr th:only-of-type {\n",
       "        vertical-align: middle;\n",
       "    }\n",
       "\n",
       "    .dataframe tbody tr th {\n",
       "        vertical-align: top;\n",
       "    }\n",
       "\n",
       "    .dataframe thead th {\n",
       "        text-align: right;\n",
       "    }\n",
       "</style>\n",
       "<table border=\"1\" class=\"dataframe\">\n",
       "  <thead>\n",
       "    <tr style=\"text-align: right;\">\n",
       "      <th></th>\n",
       "      <th>Car_Name</th>\n",
       "      <th>Year</th>\n",
       "      <th>Car_Age</th>\n",
       "    </tr>\n",
       "  </thead>\n",
       "  <tbody>\n",
       "    <tr>\n",
       "      <th>0</th>\n",
       "      <td>ritz</td>\n",
       "      <td>2014</td>\n",
       "      <td>11</td>\n",
       "    </tr>\n",
       "    <tr>\n",
       "      <th>1</th>\n",
       "      <td>sx4</td>\n",
       "      <td>2013</td>\n",
       "      <td>12</td>\n",
       "    </tr>\n",
       "    <tr>\n",
       "      <th>2</th>\n",
       "      <td>ciaz</td>\n",
       "      <td>2017</td>\n",
       "      <td>8</td>\n",
       "    </tr>\n",
       "    <tr>\n",
       "      <th>3</th>\n",
       "      <td>wagon r</td>\n",
       "      <td>2011</td>\n",
       "      <td>14</td>\n",
       "    </tr>\n",
       "    <tr>\n",
       "      <th>4</th>\n",
       "      <td>swift</td>\n",
       "      <td>2014</td>\n",
       "      <td>11</td>\n",
       "    </tr>\n",
       "  </tbody>\n",
       "</table>\n",
       "</div>"
      ],
      "text/plain": [
       "  Car_Name  Year  Car_Age\n",
       "0     ritz  2014       11\n",
       "1      sx4  2013       12\n",
       "2     ciaz  2017        8\n",
       "3  wagon r  2011       14\n",
       "4    swift  2014       11"
      ]
     },
     "execution_count": 9,
     "metadata": {},
     "output_type": "execute_result"
    }
   ],
   "source": [
    "df = df[df['Year'] > 0]             \n",
    "df = df[df['Selling_Price'] > 0]   \n",
    "df = df[df['Present_Price'] > 0]   \n",
    "df = df[df['Driven_kms'] >= 0]     \n",
    "df = df[df['Owner'] >= 0]   \n",
    "\n",
    "df['Car_Age'] = 2025 - df['Year'] \n",
    "\n",
    "print(\"Была добавлена 1 новая переменная\")\n",
    "print(\"Размер DataFrame после очистки:\", df.shape)\n",
    "\n",
    "print(\"\\nПервые 5 строк с новым признаком:\")\n",
    "df[['Car_Name', 'Year', 'Car_Age']].head()"
   ]
  },
  {
   "cell_type": "markdown",
   "id": "4c0f0d7e-49ba-4f3b-b971-713d0484a34f",
   "metadata": {},
   "source": [
    "Вывод: Были установлены фильтра на отрицательные и в некоторых случаях на нулевые значения. После очистки не было выявлено невалидных данных. Также была добавлена новая пересенная \"Возраст машины\". Других фильтров не было установлено, так как значения, находящиеся в выборке имеют место быть."
   ]
  },
  {
   "cell_type": "markdown",
   "id": "0c1ddd27-7703-4555-9592-2ceca53d4fa0",
   "metadata": {},
   "source": [
    "### 7. График 1 - распределение цен на машины"
   ]
  },
  {
   "cell_type": "code",
   "execution_count": 10,
   "id": "0a09f5f5-5862-445c-8cc4-3a5c95a396d1",
   "metadata": {},
   "outputs": [
    {
     "data": {
      "image/png": "[encoded data removed]",
      "text/plain": [
       "<Figure size 1000x600 with 1 Axes>"
      ]
     },
     "metadata": {},
     "output_type": "display_data"
    },
    {
     "name": "stdout",
     "output_type": "stream",
     "text": [
      "Вывод: Большинство машин имеет стоимость ниже или равную 10 lakhs, помимо этого присутствуют и дорогие варианты машин\n"
     ]
    }
   ],
   "source": [
    "plt.figure(figsize=(10, 6))  \n",
    "sns.histplot(df['Selling_Price'], kde=True, bins=30)  \n",
    "plt.title('График распределения цен на машины')  \n",
    "plt.xlabel('Цена (в lakhs)')  \n",
    "plt.ylabel('Количество машин')  \n",
    "plt.savefig('цены_машин.png') \n",
    "plt.show()  \n",
    "\n",
    "print(\"Вывод: Большинство машин имеет стоимость ниже или равную 10 lakhs, помимо этого присутствуют и дорогие варианты машин\")"
   ]
  },
  {
   "cell_type": "markdown",
   "id": "9e6a5ee8-aaf1-4943-b370-b2814e6835df",
   "metadata": {},
   "source": [
    "### 8. График 2 - цена и год выпуска"
   ]
  },
  {
   "cell_type": "code",
   "execution_count": 11,
   "id": "2dfd029e-2836-4dae-bbaa-ee35c70e99d5",
   "metadata": {},
   "outputs": [
    {
     "data": {
      "application/vnd.plotly.v1+json": {
       "config": {
        "plotlyServerURL": "https://plot.ly"
       },
       "data": [
        {
         "hovertemplate": "Fuel_Type=Petrol<br>Год выпуска=%{x}<br>Цена (lakhs)=%{y}<extra></extra>",
         "legendgroup": "Petrol",
         "marker": {
          "color": "#636efa",
          "symbol": "circle"
         },
         "mode": "markers",
         "name": "Petrol",
         "orientation": "v",
         "showlegend": true,
         "type": "scatter",
         "x": {
          "bdata": "3gfhB9sH3wfhB98H3wfZB9oH4AfhB9sH3gfdB9sH3QfhB9oH2wffB9MH4AfTB+AH3gfYB9wH3gfdB9YH3wfhB9UH2QffB9oH3gfdB98H4QfbB+AH3QfbB98H3QfUB9oH1gfcB90H3gfZB9UH2AfcB+EH3QfgB+EH4QfhB+EH3wfeB90H4AfhB+AH4AfeB+AH3wffB90H3wffB90H4AfbB+AH3QfcB9kH4QfgB+EH4QfhB98H4QfgB+EH3wfeB90H4AffB90H4AffB+AH3gfcB94H3wfaB+AH2wfgB9wH3QfeB+EH4QffB+EH4QfbB94H3AfaB+AH4AfgB94H3QffB9wH3wfeB+EH3wfbB9sH4AfeB9oH3AfgB90H3QfYB9gH2gfdB90H1QfYB9wH1wfdB9gH3wfYB9oH2wfXB9YH3wfbB98H4AfhB98H4QfcB+AH2wfhB9wH4AfgB94H3AfhB90H3QfbB98H2wfhB98H3wfhB+AH3QfcB98H3gfgB9wH3wfdB+AH3QffB90H3AfgB98H3wfeB+AH4AffB+AH3wfhB94H4QffB9sH2QffB9oH3gfgB98H3wfgB94H3wfWB+AH3QfgB+AH3wffB+AH3gffB+AH2gfeB98H2QfgBw==",
          "dtype": "i2"
         },
         "xaxis": "x",
         "y": {
          "bdata": "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",
          "dtype": "f8"
         },
         "yaxis": "y"
        },
        {
         "hovertemplate": "Fuel_Type=Diesel<br>Год выпуска=%{x}<br>Цена (lakhs)=%{y}<extra></extra>",
         "legendgroup": "Diesel",
         "marker": {
          "color": "#EF553B",
          "symbol": "circle"
         },
         "mode": "markers",
         "name": "Diesel",
         "orientation": "v",
         "showlegend": true,
         "type": "scatter",
         "x": {
          "bdata": "3QfeB+IH3wfgB98H3wfgB98H4AffB9wH3gfeB94H3gfcB98H4QfdB94H3gffB+EH3gfaB94H2wfeB9wH4AffB+EH3wfVB9oH3gffB+AH2gfaB98H3wfeB98H3AfcB90H3QffB9wH3QfcB+AH3gfgB94H3wfgB+EH",
          "dtype": "i2"
         },
         "xaxis": "x",
         "y": {
          "bdata": "AAAAAAAAE0BmZmZmZmYSQAAAAAAAgCJAAAAAAAAAGkAAAAAAAIAhQM3MzMzMzB1AZmZmZmZmG0AAAAAAAAAfQAAAAAAAAB1AAAAAAAAAH0DNzMzMzMwdQM3MzMzMzAhAzczMzMzME0AAAAAAAAAYQAAAAAAAABZAAAAAAAAAFkDNzMzMzMwtQAAAAAAAADdAAAAAAAAAMkAAAAAAAAAwQD0K16Nw/TNAAAAAAADAMkAAAAAAAIA3QAAAAAAAgEBAAAAAAAAAE0AAAAAAAIAiQJqZmZmZmQ9AAAAAAAAAEkCamZmZmZkTQAAAAAAAAC1A9ihcj8J1LUAAAAAAAAATQAAAAAAAADdAAAAAAAAAKUDsUbgehesLQAAAAAAAgEFAAAAAAACAJkAAAAAAAAA3QAAAAAAAwDRAzczMzMxMI0AAAAAAAAAKQGZmZmZmZhNAAAAAAACAJ0AAAAAAAAAYQAAAAAAAgCBAzczMzMzME0DNzMzMzMwIQJqZmZmZmRhAMzMzMzMzD0AAAAAAAIAmQGZmZmZmZhVAzczMzMzMF0DNzMzMzMwUQM3MzMzMzClAzczMzMzMHEAzMzMzM7MgQAAAAAAAgCBAmpmZmZkZIUAAAAAAAAAjQAAAAAAAACdA",
          "dtype": "f8"
         },
         "yaxis": "y"
        },
        {
         "hovertemplate": "Fuel_Type=CNG<br>Год выпуска=%{x}<br>Цена (lakhs)=%{y}<extra></extra>",
         "legendgroup": "CNG",
         "marker": {
          "color": "#00cc96",
          "symbol": "circle"
         },
         "mode": "markers",
         "name": "CNG",
         "orientation": "v",
         "showlegend": true,
         "type": "scatter",
         "x": {
          "bdata": "3wfbBw==",
          "dtype": "i2"
         },
         "xaxis": "x",
         "y": {
          "bdata": "AAAAAAAACkCamZmZmZkHQA==",
          "dtype": "f8"
         },
         "yaxis": "y"
        }
       ],
       "layout": {
        "height": 500,
        "legend": {
         "title": {
          "text": "Fuel_Type"
         },
         "tracegroupgap": 0
        },
        "template": {
         "data": {
          "bar": [
           {
            "error_x": {
             "color": "#2a3f5f"
            },
            "error_y": {
             "color": "#2a3f5f"
            },
            "marker": {
             "line": {
              "color": "#E5ECF6",
              "width": 0.5
             },
             "pattern": {
              "fillmode": "overlay",
              "size": 10,
              "solidity": 0.2
             }
            },
            "type": "bar"
           }
          ],
          "barpolar": [
           {
            "marker": {
             "line": {
              "color": "#E5ECF6",
              "width": 0.5
             },
             "pattern": {
              "fillmode": "overlay",
              "size": 10,
              "solidity": 0.2
             }
            },
            "type": "barpolar"
           }
          ],
          "carpet": [
           {
            "aaxis": {
             "endlinecolor": "#2a3f5f",
             "gridcolor": "white",
             "linecolor": "white",
             "minorgridcolor": "white",
             "startlinecolor": "#2a3f5f"
            },
            "baxis": {
             "endlinecolor": "#2a3f5f",
             "gridcolor": "white",
             "linecolor": "white",
             "minorgridcolor": "white",
             "startlinecolor": "#2a3f5f"
            },
            "type": "carpet"
           }
          ],
          "choropleth": [
           {
            "colorbar": {
             "outlinewidth": 0,
             "ticks": ""
            },
            "type": "choropleth"
           }
          ],
          "contour": [
           {
            "colorbar": {
             "outlinewidth": 0,
             "ticks": ""
            },
            "colorscale": [
             [
              0,
              "#0d0887"
             ],
             [
              0.1111111111111111,
              "#46039f"
             ],
             [
              0.2222222222222222,
              "#7201a8"
             ],
             [
              0.3333333333333333,
              "#9c179e"
             ],
             [
              0.4444444444444444,
              "#bd3786"
             ],
             [
              0.5555555555555556,
              "#d8576b"
             ],
             [
              0.6666666666666666,
              "#ed7953"
             ],
             [
              0.7777777777777778,
              "#fb9f3a"
             ],
             [
              0.8888888888888888,
              "#fdca26"
             ],
             [
              1,
              "#f0f921"
             ]
            ],
            "type": "contour"
           }
          ],
          "contourcarpet": [
           {
            "colorbar": {
             "outlinewidth": 0,
             "ticks": ""
            },
            "type": "contourcarpet"
           }
          ],
          "heatmap": [
           {
            "colorbar": {
             "outlinewidth": 0,
             "ticks": ""
            },
            "colorscale": [
             [
              0,
              "#0d0887"
             ],
             [
              0.1111111111111111,
              "#46039f"
             ],
             [
              0.2222222222222222,
              "#7201a8"
             ],
             [
              0.3333333333333333,
              "#9c179e"
             ],
             [
              0.4444444444444444,
              "#bd3786"
             ],
             [
              0.5555555555555556,
              "#d8576b"
             ],
             [
              0.6666666666666666,
              "#ed7953"
             ],
             [
              0.7777777777777778,
              "#fb9f3a"
             ],
             [
              0.8888888888888888,
              "#fdca26"
             ],
             [
              1,
              "#f0f921"
             ]
            ],
            "type": "heatmap"
           }
          ],
          "histogram": [
           {
            "marker": {
             "pattern": {
              "fillmode": "overlay",
              "size": 10,
              "solidity": 0.2
             }
            },
            "type": "histogram"
           }
          ],
          "histogram2d": [
           {
            "colorbar": {
             "outlinewidth": 0,
             "ticks": ""
            },
            "colorscale": [
             [
              0,
              "#0d0887"
             ],
             [
              0.1111111111111111,
              "#46039f"
             ],
             [
              0.2222222222222222,
              "#7201a8"
             ],
             [
              0.3333333333333333,
              "#9c179e"
             ],
             [
              0.4444444444444444,
              "#bd3786"
             ],
             [
              0.5555555555555556,
              "#d8576b"
             ],
             [
              0.6666666666666666,
              "#ed7953"
             ],
             [
              0.7777777777777778,
              "#fb9f3a"
             ],
             [
              0.8888888888888888,
              "#fdca26"
             ],
             [
              1,
              "#f0f921"
             ]
            ],
            "type": "histogram2d"
           }
          ],
          "histogram2dcontour": [
           {
            "colorbar": {
             "outlinewidth": 0,
             "ticks": ""
            },
            "colorscale": [
             [
              0,
              "#0d0887"
             ],
             [
              0.1111111111111111,
              "#46039f"
             ],
             [
              0.2222222222222222,
              "#7201a8"
             ],
             [
              0.3333333333333333,
              "#9c179e"
             ],
             [
              0.4444444444444444,
              "#bd3786"
             ],
             [
              0.5555555555555556,
              "#d8576b"
             ],
             [
              0.6666666666666666,
              "#ed7953"
             ],
             [
              0.7777777777777778,
              "#fb9f3a"
             ],
             [
              0.8888888888888888,
              "#fdca26"
             ],
             [
              1,
              "#f0f921"
             ]
            ],
            "type": "histogram2dcontour"
           }
          ],
          "mesh3d": [
           {
            "colorbar": {
             "outlinewidth": 0,
             "ticks": ""
            },
            "type": "mesh3d"
           }
          ],
          "parcoords": [
           {
            "line": {
             "colorbar": {
              "outlinewidth": 0,
              "ticks": ""
             }
            },
            "type": "parcoords"
           }
          ],
          "pie": [
           {
            "automargin": true,
            "type": "pie"
           }
          ],
          "scatter": [
           {
            "fillpattern": {
             "fillmode": "overlay",
             "size": 10,
             "solidity": 0.2
            },
            "type": "scatter"
           }
          ],
          "scatter3d": [
           {
            "line": {
             "colorbar": {
              "outlinewidth": 0,
              "ticks": ""
             }
            },
            "marker": {
             "colorbar": {
              "outlinewidth": 0,
              "ticks": ""
             }
            },
            "type": "scatter3d"
           }
          ],
          "scattercarpet": [
           {
            "marker": {
             "colorbar": {
              "outlinewidth": 0,
              "ticks": ""
             }
            },
            "type": "scattercarpet"
           }
          ],
          "scattergeo": [
           {
            "marker": {
             "colorbar": {
              "outlinewidth": 0,
              "ticks": ""
             }
            },
            "type": "scattergeo"
           }
          ],
          "scattergl": [
           {
            "marker": {
             "colorbar": {
              "outlinewidth": 0,
              "ticks": ""
             }
            },
            "type": "scattergl"
           }
          ],
          "scattermap": [
           {
            "marker": {
             "colorbar": {
              "outlinewidth": 0,
              "ticks": ""
             }
            },
            "type": "scattermap"
           }
          ],
          "scattermapbox": [
           {
            "marker": {
             "colorbar": {
              "outlinewidth": 0,
              "ticks": ""
             }
            },
            "type": "scattermapbox"
           }
          ],
          "scatterpolar": [
           {
            "marker": {
             "colorbar": {
              "outlinewidth": 0,
              "ticks": ""
             }
            },
            "type": "scatterpolar"
           }
          ],
          "scatterpolargl": [
           {
            "marker": {
             "colorbar": {
              "outlinewidth": 0,
              "ticks": ""
             }
            },
            "type": "scatterpolargl"
           }
          ],
          "scatterternary": [
           {
            "marker": {
             "colorbar": {
              "outlinewidth": 0,
              "ticks": ""
             }
            },
            "type": "scatterternary"
           }
          ],
          "surface": [
           {
            "colorbar": {
             "outlinewidth": 0,
             "ticks": ""
            },
            "colorscale": [
             [
              0,
              "#0d0887"
             ],
             [
              0.1111111111111111,
              "#46039f"
             ],
             [
              0.2222222222222222,
              "#7201a8"
             ],
             [
              0.3333333333333333,
              "#9c179e"
             ],
             [
              0.4444444444444444,
              "#bd3786"
             ],
             [
              0.5555555555555556,
              "#d8576b"
             ],
             [
              0.6666666666666666,
              "#ed7953"
             ],
             [
              0.7777777777777778,
              "#fb9f3a"
             ],
             [
              0.8888888888888888,
              "#fdca26"
             ],
             [
              1,
              "#f0f921"
             ]
            ],
            "type": "surface"
           }
          ],
          "table": [
           {
            "cells": {
             "fill": {
              "color": "#EBF0F8"
             },
             "line": {
              "color": "white"
             }
            },
            "header": {
             "fill": {
              "color": "#C8D4E3"
             },
             "line": {
              "color": "white"
             }
            },
            "type": "table"
           }
          ]
         },
         "layout": {
          "annotationdefaults": {
           "arrowcolor": "#2a3f5f",
           "arrowhead": 0,
           "arrowwidth": 1
          },
          "autotypenumbers": "strict",
          "coloraxis": {
           "colorbar": {
            "outlinewidth": 0,
            "ticks": ""
           }
          },
          "colorscale": {
           "diverging": [
            [
             0,
             "#8e0152"
            ],
            [
             0.1,
             "#c51b7d"
            ],
            [
             0.2,
             "#de77ae"
            ],
            [
             0.3,
             "#f1b6da"
            ],
            [
             0.4,
             "#fde0ef"
            ],
            [
             0.5,
             "#f7f7f7"
            ],
            [
             0.6,
             "#e6f5d0"
            ],
            [
             0.7,
             "#b8e186"
            ],
            [
             0.8,
             "#7fbc41"
            ],
            [
             0.9,
             "#4d9221"
            ],
            [
             1,
             "#276419"
            ]
           ],
           "sequential": [
            [
             0,
             "#0d0887"
            ],
            [
             0.1111111111111111,
             "#46039f"
            ],
            [
             0.2222222222222222,
             "#7201a8"
            ],
            [
             0.3333333333333333,
             "#9c179e"
            ],
            [
             0.4444444444444444,
             "#bd3786"
            ],
            [
             0.5555555555555556,
             "#d8576b"
            ],
            [
             0.6666666666666666,
             "#ed7953"
            ],
            [
             0.7777777777777778,
             "#fb9f3a"
            ],
            [
             0.8888888888888888,
             "#fdca26"
            ],
            [
             1,
             "#f0f921"
            ]
           ],
           "sequentialminus": [
            [
             0,
             "#0d0887"
            ],
            [
             0.1111111111111111,
             "#46039f"
            ],
            [
             0.2222222222222222,
             "#7201a8"
            ],
            [
             0.3333333333333333,
             "#9c179e"
            ],
            [
             0.4444444444444444,
             "#bd3786"
            ],
            [
             0.5555555555555556,
             "#d8576b"
            ],
            [
             0.6666666666666666,
             "#ed7953"
            ],
            [
             0.7777777777777778,
             "#fb9f3a"
            ],
            [
             0.8888888888888888,
             "#fdca26"
            ],
            [
             1,
             "#f0f921"
            ]
           ]
          },
          "colorway": [
           "#636efa",
           "#EF553B",
           "#00cc96",
           "#ab63fa",
           "#FFA15A",
           "#19d3f3",
           "#FF6692",
           "#B6E880",
           "#FF97FF",
           "#FECB52"
          ],
          "font": {
           "color": "#2a3f5f"
          },
          "geo": {
           "bgcolor": "white",
           "lakecolor": "white",
           "landcolor": "#E5ECF6",
           "showlakes": true,
           "showland": true,
           "subunitcolor": "white"
          },
          "hoverlabel": {
           "align": "left"
          },
          "hovermode": "closest",
          "mapbox": {
           "style": "light"
          },
          "paper_bgcolor": "white",
          "plot_bgcolor": "#E5ECF6",
          "polar": {
           "angularaxis": {
            "gridcolor": "white",
            "linecolor": "white",
            "ticks": ""
           },
           "bgcolor": "#E5ECF6",
           "radialaxis": {
            "gridcolor": "white",
            "linecolor": "white",
            "ticks": ""
           }
          },
          "scene": {
           "xaxis": {
            "backgroundcolor": "#E5ECF6",
            "gridcolor": "white",
            "gridwidth": 2,
            "linecolor": "white",
            "showbackground": true,
            "ticks": "",
            "zerolinecolor": "white"
           },
           "yaxis": {
            "backgroundcolor": "#E5ECF6",
            "gridcolor": "white",
            "gridwidth": 2,
            "linecolor": "white",
            "showbackground": true,
            "ticks": "",
            "zerolinecolor": "white"
           },
           "zaxis": {
            "backgroundcolor": "#E5ECF6",
            "gridcolor": "white",
            "gridwidth": 2,
            "linecolor": "white",
            "showbackground": true,
            "ticks": "",
            "zerolinecolor": "white"
           }
          },
          "shapedefaults": {
           "line": {
            "color": "#2a3f5f"
           }
          },
          "ternary": {
           "aaxis": {
            "gridcolor": "white",
            "linecolor": "white",
            "ticks": ""
           },
           "baxis": {
            "gridcolor": "white",
            "linecolor": "white",
            "ticks": ""
           },
           "bgcolor": "#E5ECF6",
           "caxis": {
            "gridcolor": "white",
            "linecolor": "white",
            "ticks": ""
           }
          },
          "title": {
           "x": 0.05
          },
          "xaxis": {
           "automargin": true,
           "gridcolor": "white",
           "linecolor": "white",
           "ticks": "",
           "title": {
            "standoff": 15
           },
           "zerolinecolor": "white",
           "zerolinewidth": 2
          },
          "yaxis": {
           "automargin": true,
           "gridcolor": "white",
           "linecolor": "white",
           "ticks": "",
           "title": {
            "standoff": 15
           },
           "zerolinecolor": "white",
           "zerolinewidth": 2
          }
         }
        },
        "title": {
         "text": "Цена от года выпуска"
        },
        "width": 800,
        "xaxis": {
         "anchor": "y",
         "domain": [
          0,
          1
         ],
         "title": {
          "text": "Год выпуска"
         }
        },
        "yaxis": {
         "anchor": "x",
         "domain": [
          0,
          1
         ],
         "title": {
          "text": "Цена (lakhs)"
         }
        }
       }
      }
     },
     "metadata": {},
     "output_type": "display_data"
    },
    {
     "name": "stdout",
     "output_type": "stream",
     "text": [
      "Вывод: Исходя из графика можно сделать вывод, что машины имеющие дизельный двигатель внутреннего сгорания стоят дороже, нежели машины на природном газе и машины на бензине. Также по графику видно, что чем новее машина, тем она дороже\n"
     ]
    }
   ],
   "source": [
    "df = pd.read_csv(\"/home/alyona/car_price_pred/data/car_data.csv\")\n",
    "\n",
    "fig = px.scatter(\n",
    "    df,\n",
    "    x=\"Year\",\n",
    "    y=\"Selling_Price\",\n",
    "    color=\"Fuel_Type\",\n",
    "    title=\"Цена от года выпуска\",\n",
    "    labels={\"Selling_Price\": \"Цена (lakhs)\", \"Year\": \"Год выпуска\"},\n",
    "    width=800, height=500\n",
    ")\n",
    "fig.show()\n",
    "\n",
    "plt.figure(figsize=(8,5))\n",
    "for fuel_type, group in df.groupby(\"Fuel_Type\"):\n",
    "    plt.scatter(group[\"Year\"], group[\"Selling_Price\"], label=fuel_type, alpha=0.7)\n",
    "\n",
    "plt.xlabel(\"Год выпуска\")\n",
    "plt.ylabel(\"Цена (lakhs)\")\n",
    "plt.title(\"Цена от года выпуска\")\n",
    "plt.legend()\n",
    "plt.grid(True)\n",
    "\n",
    "plt.savefig(\"цена_и_год.png\") \n",
    "plt.close()\n",
    "\n",
    "print(\"Вывод: Исходя из графика можно сделать вывод, что машины имеющие дизельный двигатель внутреннего сгорания стоят дороже, нежели машины на природном газе и машины на бензине. Также по графику видно, что чем новее машина, тем она дороже\")"
   ]
  },
  {
   "cell_type": "markdown",
   "id": "22740686-21ff-48fc-9b4f-5317ff911d0d",
   "metadata": {},
   "source": [
    "### 9. График 3 - корреляционная матрица"
   ]
  },
  {
   "cell_type": "code",
   "execution_count": 12,
   "id": "f8bd8a36-8735-47cd-8e84-d4dd6b494b80",
   "metadata": {},
   "outputs": [
    {
     "data": {
      "image/png": "[encoded data removed]",
      "text/plain": [
       "<Figure size 1000x800 with 2 Axes>"
      ]
     },
     "metadata": {},
     "output_type": "display_data"
    },
    {
     "name": "stdout",
     "output_type": "stream",
     "text": [
      "Вывод: Из матрицы корреляции видно, что год выпуска и текущая стоимость (Present_Price) сильно влияет- новые машины дороже и имеют наименьший пробег. Пробег (Driven_kms) и (Owner) оказывают слабое влияние на цену\n"
     ]
    }
   ],
   "source": [
    "numeric_df = df.select_dtypes(include=[np.number])\n",
    "\n",
    "plt.figure(figsize=(10, 8))  \n",
    "\n",
    "sns.heatmap(numeric_df.corr(), \n",
    "            annot=True,     \n",
    "            cmap='coolwarm', \n",
    "            center=0)       \n",
    "plt.title('Корреляция между признаками')  \n",
    "plt.savefig('корреляционная_матрица.png')  \n",
    "plt.show()  \n",
    "\n",
    "print(\"Вывод: Из матрицы корреляции видно, что год выпуска и текущая стоимость (Present_Price) сильно влияет- новые машины дороже и имеют наименьший пробег. Пробег (Driven_kms) и (Owner) оказывают слабое влияние на цену\")"
   ]
  },
  {
   "cell_type": "markdown",
   "id": "d6da073b-a5ed-4bf4-87c0-dba4c63455b6",
   "metadata": {},
   "source": [
    "### 10. График 4 - цена по типам топлива"
   ]
  },
  {
   "cell_type": "code",
   "execution_count": 13,
   "id": "43ac6074-60c0-44ff-990c-fdc300be0ba2",
   "metadata": {},
   "outputs": [
    {
     "data": {
      "image/png": "[encoded data removed]",
      "text/plain": [
       "<Figure size 1000x600 with 1 Axes>"
      ]
     },
     "metadata": {},
     "output_type": "display_data"
    },
    {
     "name": "stdout",
     "output_type": "stream",
     "text": [
      "Вывод: Из диаграммы Тьюки видно, что машины работающие на дизеле стоят дороже\n"
     ]
    }
   ],
   "source": [
    "plt.figure(figsize=(10, 6))\n",
    "\n",
    "sns.boxplot(x='Fuel_Type', y='Selling_Price', data=df, \n",
    "            hue='Fuel_Type', \n",
    "            legend=False,     \n",
    "            width=0.6,\n",
    "            palette='Set2')\n",
    "\n",
    "plt.title('Сравнение цен по типам топлива', fontsize=14)\n",
    "plt.xlabel('Тип топлива')\n",
    "plt.ylabel('Цена (lakhs)')\n",
    "plt.grid(True, alpha=0.3)\n",
    "\n",
    "plt.savefig('цена_по_типам_топлива.png')\n",
    "plt.show()\n",
    "\n",
    "print(\"Вывод: Из диаграммы Тьюки видно, что машины работающие на дизеле стоят дороже\")"
   ]
  },
  {
   "cell_type": "markdown",
   "id": "eef0aaa6-3afc-40ab-9345-2e5a527503d8",
   "metadata": {},
   "source": [
    "### 11. График 5 - цена от пробега"
   ]
  },
  {
   "cell_type": "code",
   "execution_count": 14,
   "id": "09d8c1a2-1f31-4b66-a113-1af6a2d176a1",
   "metadata": {},
   "outputs": [
    {
     "data": {
      "image/png": "[encoded data removed]",
      "text/plain": [
       "<Figure size 1200x800 with 1 Axes>"
      ]
     },
     "metadata": {},
     "output_type": "display_data"
    },
    {
     "name": "stdout",
     "output_type": "stream",
     "text": [
      "Коэффициент корреляции: 0.029\n",
      "Вывод: Из графика видно, что машины, которые имеют минимальный пробег, имеют наибольшую цену. А машины, у которых пробег потихоньку дотягивать или переваливать за 100.000 км, цена снижается\n"
     ]
    }
   ],
   "source": [
    "plt.figure(figsize=(12, 8))\n",
    "\n",
    "plt.scatter(df['Driven_kms'], df['Selling_Price'], \n",
    "            alpha=0.6,      \n",
    "            s=50,           \n",
    "            color='blue',   \n",
    "            edgecolors='black', \n",
    "            linewidth=0.5)  \n",
    "\n",
    "\n",
    "z = np.polyfit(df['Driven_kms'], df['Selling_Price'], 1)\n",
    "p = np.poly1d(z)\n",
    "plt.plot(df['Driven_kms'], p(df['Driven_kms']), \n",
    "         color='red', \n",
    "         linewidth=2, \n",
    "         linestyle='--',\n",
    "         label='Линия тренда')\n",
    "\n",
    "plt.title('Зависимость цены автомобиля от пробега', fontsize=16, fontweight='bold')\n",
    "plt.xlabel('Пробег (км)', fontsize=12)\n",
    "plt.ylabel('Цена продажи (lakhs)', fontsize=12)\n",
    "plt.legend()\n",
    "plt.grid(True, alpha=0.3)\n",
    "\n",
    "\n",
    "plt.savefig('цена_от_пробега.png')\n",
    "plt.show()\n",
    "\n",
    "\n",
    "correlation = df['Selling_Price'].corr(df['Driven_kms'])\n",
    "print(f\"Коэффициент корреляции: {correlation:.3f}\")\n",
    "\n",
    "print(\"Вывод: Из графика видно, что машины, которые имеют минимальный пробег, имеют наибольшую цену. А машины, у которых пробег потихоньку дотягивать или переваливать за 100.000 км, цена снижается\")"
   ]
  },
  {
   "cell_type": "code",
   "execution_count": 15,
   "id": "53b5c7cc-fc91-4c4d-8170-c639904dd746",
   "metadata": {},
   "outputs": [
    {
     "name": "stdout",
     "output_type": "stream",
     "text": [
      "Размер файла: 16.5 KB\n"
     ]
    }
   ],
   "source": [
    "import os\n",
    "os.makedirs('../data', exist_ok=True)  \n",
    "\n",
    "df.to_pickle('../data/clean_car_data.pkl')\n",
    "\n",
    "if os.path.exists('../data/clean_car_data.pkl'):\n",
    "    file_size = os.path.getsize('../data/clean_car_data.pkl') / 1024\n",
    "    print(f\"Размер файла: {file_size:.1f} KB\")"
   ]
  },
  {
   "cell_type": "markdown",
   "id": "f6260f48-46c6-448a-befe-3a86fc02b69d",
   "metadata": {},
   "source": [
    "### 12. Сравнение цен по типам КПП"
   ]
  },
  {
   "cell_type": "code",
   "execution_count": 16,
   "id": "82508a8b-4b86-42bf-ae42-c6d47769c0e4",
   "metadata": {},
   "outputs": [
    {
     "name": "stdout",
     "output_type": "stream",
     "text": [
      "- Автоматическая КПП: 9.42 lakhs\n",
      "- Механическая КПП: 3.93 lakhs\n",
      "- Разница: +5.49 lakhs \n"
     ]
    }
   ],
   "source": [
    "auto_price = df[df['Transmission'] == 'Automatic']['Selling_Price'].mean()\n",
    "manual_price = df[df['Transmission'] == 'Manual']['Selling_Price'].mean()\n",
    "price_diff = auto_price - manual_price\n",
    "price_diff_percent = (price_diff / manual_price) * 100\n",
    "\n",
    "print(f\"- Автоматическая КПП: {auto_price:.2f} lakhs\")\n",
    "print(f\"- Механическая КПП: {manual_price:.2f} lakhs\")\n",
    "print(f\"- Разница: +{price_diff:.2f} lakhs \")"
   ]
  },
  {
   "cell_type": "markdown",
   "id": "ff2d676f-c57b-4889-a886-7bc8f4c10a56",
   "metadata": {},
   "source": [
    "Вывод: По сравнению с механической коробкой передач, автоматическая выходит дороже."
   ]
  },
  {
   "cell_type": "markdown",
   "id": "41406e44-0f9b-4283-ab1f-85ed67e8f543",
   "metadata": {},
   "source": [
    "### 13. Сохранение изменений в новый файл"
   ]
  },
  {
   "cell_type": "code",
   "execution_count": 17,
   "id": "7acb0922-4d73-485e-aff6-5dcf5a3ac0b0",
   "metadata": {},
   "outputs": [
    {
     "name": "stdout",
     "output_type": "stream",
     "text": [
      "DataFrame успешно сохранен в файл clean_car_data.pkl\n"
     ]
    }
   ],
   "source": [
    "os.makedirs('../data', exist_ok=True)\n",
    "\n",
    "with open('../data/clean_car_data.pkl', 'wb') as f:\n",
    "    pickle.dump(df, f)\n",
    "\n",
    "print(\"DataFrame успешно сохранен в файл clean_car_data.pkl\")"
   ]
  },
  {
   "cell_type": "markdown",
   "id": "f30cce51-40c0-4d51-bc70-996481995d5b",
   "metadata": {},
   "source": [
    "## Итоговые выводы"
   ]
  },
  {
   "cell_type": "markdown",
   "id": "aa92aac7-69fd-4981-ad9a-31d3be4ae4bb",
   "metadata": {},
   "source": [
    "#### Пропущенных значений: нет\n",
    "\n",
    "#### Дубликаты: удалены\n",
    "\n",
    "##### - Год выпуска сильно влияет на цену: чем новее машины, тем выше у нее цена\n",
    "##### - Дизельные машины дороже бензиновых и газовых\n",
    "##### - При большом пробеге цена ниже\n",
    "##### - Автоматические КПП увеличивают стоимость машины, так как на них ездить комфортнее\n",
    "##### - Car_Age: возраст автомобиля в годах"
   ]
  }
 ],
 "metadata": {
  "kernelspec": {
   "display_name": "Python 3 (ipykernel)",
   "language": "python",
   "name": "python3"
  },
  "language_info": {
   "codemirror_mode": {
    "name": "ipython",
    "version": 3
   },
   "file_extension": ".py",
   "mimetype": "text/x-python",
   "name": "python",
   "nbconvert_exporter": "python",
   "pygments_lexer": "ipython3",
   "version": "3.10.12"
  }
 },
 "nbformat": 4,
 "nbformat_minor": 5
}
